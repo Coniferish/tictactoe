{
 "cells": [
  {
   "cell_type": "code",
   "execution_count": 1,
   "metadata": {},
   "outputs": [
    {
     "name": "stdout",
     "output_type": "stream",
     "text": [
      "[None, None, None]\n",
      "[None, None, None]\n",
      "[None, None, None]\n"
     ]
    }
   ],
   "source": [
    "mark = \"O\" \n",
    "board = [[None, None, None], [None, None, None], [None, None, None]]\n",
    "for i in range(len(board)):\n",
    "    print(board[i])"
   ]
  },
  {
   "cell_type": "code",
   "execution_count": 2,
   "metadata": {},
   "outputs": [],
   "source": [
    "def get_move(position=None):\n",
    "    global board\n",
    "    \n",
    "    if not position:\n",
    "        position = input(\"Enter the position for your next move in '#row# #column#' format\\n\")\n",
    "    position = check_move(list(map(int, list(position.split()))))\n",
    "    return position"
   ]
  },
  {
   "cell_type": "code",
   "execution_count": 3,
   "metadata": {},
   "outputs": [],
   "source": [
    "def check_move(position):\n",
    "    while board[position[0]][position[1]] != None:\n",
    "        position = input(\"\"\"That spot has already been filled.\\n\n",
    "        Enter the position for your next move in '#row# #column#' format\\n\n",
    "        \"\"\")\n",
    "        position = list(map(int, list(position.split())))\n",
    "    return position"
   ]
  },
  {
   "cell_type": "code",
   "execution_count": 4,
   "metadata": {},
   "outputs": [],
   "source": [
    "def print_board(board):\n",
    "    for i in range(3):\n",
    "        print(board[i])"
   ]
  },
  {
   "cell_type": "code",
   "execution_count": 5,
   "metadata": {},
   "outputs": [],
   "source": [
    "def alternate_turn():\n",
    "    global mark\n",
    "    if mark == \"O\":\n",
    "        mark = \"X\"\n",
    "    elif mark ==\"X\":\n",
    "        mark = \"O\"\n",
    "    return mark"
   ]
  },
  {
   "cell_type": "code",
   "execution_count": 6,
   "metadata": {},
   "outputs": [],
   "source": [
    "def play_move():\n",
    "    global mark, board\n",
    "\n",
    "    position = get_move()\n",
    "    alternate_turn()\n",
    "    board[position[0]][position[1]] = mark\n",
    "    print_board(board)"
   ]
  },
  {
   "cell_type": "code",
   "execution_count": null,
   "metadata": {},
   "outputs": [],
   "source": [
    "play_move()"
   ]
  },
  {
   "cell_type": "code",
   "execution_count": null,
   "metadata": {},
   "outputs": [],
   "source": []
  }
 ],
 "metadata": {
  "kernelspec": {
   "display_name": "Python 3",
   "language": "python",
   "name": "python3"
  },
  "language_info": {
   "codemirror_mode": {
    "name": "ipython",
    "version": 3
   },
   "file_extension": ".py",
   "mimetype": "text/x-python",
   "name": "python",
   "nbconvert_exporter": "python",
   "pygments_lexer": "ipython3",
   "version": "3.8.0"
  }
 },
 "nbformat": 4,
 "nbformat_minor": 4
}
